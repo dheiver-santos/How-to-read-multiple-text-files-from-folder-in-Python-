{
  "nbformat": 4,
  "nbformat_minor": 0,
  "metadata": {
    "colab": {
      "name": "How to read multiple text files from folder in Python?.ipynb",
      "provenance": []
    },
    "kernelspec": {
      "name": "python3",
      "display_name": "Python 3"
    },
    "language_info": {
      "name": "python"
    }
  },
  "cells": [
    {
      "cell_type": "code",
      "metadata": {
        "id": "e_udGsDSP5dY"
      },
      "source": [
        "# Import Module\n",
        "import os\n",
        "\n",
        "# Folder Path\n",
        "path = \"Enter Folder Path\"\n",
        "\n",
        "# Change the directory\n",
        "os.chdir(path)\n",
        "\n",
        "# Read text File\n",
        "\n",
        "\n",
        "def read_text_file(file_path):\n",
        "\twith open(file_path, 'r') as f:\n",
        "\t\tprint(f.read())\n",
        "\n",
        "\n",
        "# iterate through all file\n",
        "for file in os.listdir():\n",
        "\t# Check whether file is in text format or not\n",
        "\tif file.endswith(\".txt\"):\n",
        "\t\tfile_path = f\"{path}\\{file}\"\n",
        "\n",
        "\t\t# call read text file function\n",
        "\t\tread_text_file(file_path)\n"
      ],
      "execution_count": null,
      "outputs": []
    }
  ]
}